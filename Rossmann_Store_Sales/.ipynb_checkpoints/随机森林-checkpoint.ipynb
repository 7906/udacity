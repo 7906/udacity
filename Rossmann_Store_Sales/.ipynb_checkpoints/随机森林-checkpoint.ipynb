{
 "cells": [
  {
   "cell_type": "code",
   "execution_count": 3,
   "metadata": {},
   "outputs": [
    {
     "ename": "TabError",
     "evalue": "inconsistent use of tabs and spaces in indentation (<ipython-input-3-96dcd327e406>, line 42)",
     "output_type": "error",
     "traceback": [
      "\u001b[1;36m  File \u001b[1;32m\"<ipython-input-3-96dcd327e406>\"\u001b[1;36m, line \u001b[1;32m42\u001b[0m\n\u001b[1;33m    features['Month'] = features.Date.dt.month\u001b[0m\n\u001b[1;37m                                              ^\u001b[0m\n\u001b[1;31mTabError\u001b[0m\u001b[1;31m:\u001b[0m inconsistent use of tabs and spaces in indentation\n"
     ]
    }
   ],
   "source": [
    "from sklearn.linear_model import LinearRegression\n",
    "from sklearn.cross_validation import KFold\n",
    "from sklearn.cross_validation import StratifiedKFold\n",
    "from sklearn.cross_validation import train_test_split\n",
    "from sklearn.ensemble.forest import RandomForestRegressor\n",
    "from sklearn import cross_validation\n",
    "\n",
    "import xgboost as xgb\n",
    "import pandas as pd\n",
    "import numpy as np\n",
    "import matplotlib.pyplot as plt\n",
    "import operator\n",
    "\n",
    "def error_weight(yval):\n",
    "\tweight = np.zeros(yval.shape, dtype = float)\n",
    "\tindex = yval !=0\n",
    "\tweight[index] = 1./(yval[index]**2)\n",
    "\treturn weight\n",
    "\n",
    "def error_Calc(ynew, yval):\n",
    "\tw = error_weight(yval)\n",
    "\tmean = np.mean(w *(yval/ynew-1) ** 2)\n",
    "\terror_value = np.sqrt(mean)\n",
    "\t#error_value = np.sqrt(np.mean( w * (y-ynew)**2))\n",
    "\treturn error_value\n",
    "\n",
    "def error_value(ynew, y):  # The new error function\n",
    "\tmean = np.mean((y/ynew-1) ** 2)\n",
    "\treturn np.sqrt(mean)\t\n",
    "\n",
    "\n",
    "def feature_engineering(features): \n",
    "\tfeatures.fillna(0, inplace= True)\n",
    "\t#features.loc[features.isOpen.isnull(), 'Open'] =1\n",
    "\tmapper ={'d':4 , 'c':3, 'b':2, 'a':1, '0':'0'}\n",
    "\tfeatures.StoreType.replace(mapper, inplace=True)\n",
    "\tfeatures.Assortment.replace(mapper, inplace=True)\n",
    "\tfeatures.StateHoliday.replace(mapper, inplace=True) \n",
    "    \t\n",
    "\n",
    "\tfeatures['Year'] = features.Date.dt.year\n",
    "        features['Month'] = features.Date.dt.month\n",
    "        features['Day'] = features.Date.dt.day\n",
    "        features['DayOfTheWeek'] = features.Date.dt.dayofweek\n",
    "        features['WeekOfTheYear'] = features.Date.dt.weekofyear\n",
    "\t\n",
    "        val1 = features.Year - features.Promo2SinceYear\n",
    "\tval2 = features.WeekOfTheYear - features.Promo2SinceWeek\t\n",
    "\tfeatures['PromoOpen'] = 12 * val1 +  val2 / 4.0\n",
    "   \tfeatures['PromoOpen'] = features.PromoOpen.apply(lambda x: x if x > 0 else 0)\n",
    "    \tfeatures.loc[features.Promo2SinceYear == 0, 'PromoOpen'] = 0\n",
    "\tmonth_stringval = {1:'Jan', 2:'Feb', 3:'Mar', 4:'Apr', 5:'May', 6:'Jun', \\\n",
    "             7:'Jul', 8:'Aug', 9:'Sept', 10:'Oct', 11:'Nov', 12:'Dec'}\n",
    "    \tfeatures['monthStr'] = features.Month.map(month_stringval)\n",
    "    \tfeatures.loc[features.PromoInterval == 0, 'PromoInterval'] = ''\n",
    "    \tfeatures['IsPromotionMonth'] = 0#DefaultValue\n",
    "\n",
    "    \tfor val in features.PromoInterval.unique():\n",
    "        \tif (val != ''):\n",
    "            \t\tfor mon in val.split(','):\n",
    "                \t\tfeatures.loc[(features.monthStr == mon) & (features.PromoInterval == val ), 'IsPromotionMonth'] = 1\t\n",
    "\t\n",
    "\tval1 = features.Year - features.CompetitionOpenSinceYear\n",
    "\tval2 = features.Month - features.CompetitionOpenSinceMonth\n",
    "    \tfeatures['CompetitionOpen'] = 12 * val1 + val2\t\n",
    "\treturn features\n",
    " \n",
    "\n"
   ]
  },
  {
   "cell_type": "code",
   "execution_count": null,
   "metadata": {},
   "outputs": [],
   "source": []
  }
 ],
 "metadata": {
  "kernelspec": {
   "display_name": "Python 3",
   "language": "python",
   "name": "python3"
  },
  "language_info": {
   "codemirror_mode": {
    "name": "ipython",
    "version": 3
   },
   "file_extension": ".py",
   "mimetype": "text/x-python",
   "name": "python",
   "nbconvert_exporter": "python",
   "pygments_lexer": "ipython3",
   "version": "3.6.5"
  }
 },
 "nbformat": 4,
 "nbformat_minor": 2
}
