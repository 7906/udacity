{
 "cells": [
  {
   "cell_type": "code",
   "execution_count": null,
   "metadata": {},
   "outputs": [],
   "source": [
    "from sklearn.ensemble import RandomForestRegressor\n",
    "from sklearn.cross_validation import train_test_split\n",
    "from sklearn import tree\n",
    "from sklearn.linear_model import LinearRegression\n",
    "from sklearn.linear_model import LogisticRegression\n",
    "from sklearn.svm import SVC, LinearSVC\n",
    "from sklearn.ensemble import RandomForestRegressor\n",
    "from sklearn.neighbors import KNeighborsClassifier\n",
    "from sklearn.naive_bayes import GaussianNB\n",
    "\n",
    "X_train,X_test,y_train,y_test = ho_xtrain,ho_xtest,ho_ytrain,ho_ytest\n",
    "clf_a = LinearRegression()\n",
    "clf_a.fit(X_train,y_train)\n",
    "clf_a.predict(X_test)\n",
    "print('LinearRegression',rmspe(clf_a.predict(X_test),y_test))\n",
    "clf_b = RandomForestRegressor()\n",
    "clf_b.fit(X_train,y_train)\n",
    "print('RandomForestRegressor',rmspe(clf_b.predict(X_test),y_test))\n",
    "clf_d = tree.DecisionTreeRegressor()\n",
    "clf_d.fit(X_train,y_train)\n",
    "print('DecisionTreeRegressor',rmspe(clf_d.predict(X_test),y_test))\n",
    "clf_e = xgb.XGBRegressor()\n",
    "clf_e.fit(X_train,y_train)\n",
    "print('XGboost',rmspe(clf_e.predict(X_test),y_test))"
   ]
  }
 ],
 "metadata": {
  "kernelspec": {
   "display_name": "Python 3",
   "language": "python",
   "name": "python3"
  },
  "language_info": {
   "codemirror_mode": {
    "name": "ipython",
    "version": 3
   },
   "file_extension": ".py",
   "mimetype": "text/x-python",
   "name": "python",
   "nbconvert_exporter": "python",
   "pygments_lexer": "ipython3",
   "version": "3.6.5"
  }
 },
 "nbformat": 4,
 "nbformat_minor": 2
}
